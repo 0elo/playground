{
 "cells": [
  {
   "cell_type": "markdown",
   "metadata": {},
   "source": [
    "# NumPy Reference Page"
   ]
  },
  {
   "cell_type": "code",
   "execution_count": 1,
   "metadata": {},
   "outputs": [],
   "source": [
    "import numpy as np\n",
    "from functools import partial\n",
    "\n",
    "# Define special version of print for better array printing\n",
    "xprint = partial(print, end='\\n\\n')"
   ]
  },
  {
   "cell_type": "code",
   "execution_count": 2,
   "metadata": {},
   "outputs": [
    {
     "name": "stdout",
     "output_type": "stream",
     "text": [
      "[1, 2, 3]\n",
      "\n",
      "[1 2 3]\n",
      "\n"
     ]
    }
   ],
   "source": [
    "list = [1,2,3]\n",
    "xprint(list)\n",
    "xprint(np.array(list))"
   ]
  },
  {
   "cell_type": "code",
   "execution_count": 3,
   "metadata": {},
   "outputs": [
    {
     "name": "stdout",
     "output_type": "stream",
     "text": [
      "[[1, 2, 3], [4, 5, 6], [7, 8, 9]]\n",
      "\n",
      "[[1 2 3]\n",
      " [4 5 6]\n",
      " [7 8 9]]\n",
      "\n"
     ]
    }
   ],
   "source": [
    "matrix = [[1,2,3],[4,5,6],[7,8,9]]\n",
    "xprint(matrix)\n",
    "xprint(np.array(matrix))"
   ]
  },
  {
   "cell_type": "code",
   "execution_count": 4,
   "metadata": {},
   "outputs": [
    {
     "name": "stdout",
     "output_type": "stream",
     "text": [
      "[0 1 2 3 4 5 6 7 8 9]\n",
      "\n",
      "[0 2 4 6 8]\n",
      "\n"
     ]
    }
   ],
   "source": [
    "xprint(np.arange(10))\n",
    "xprint(np.arange(0,10,2))"
   ]
  },
  {
   "cell_type": "code",
   "execution_count": 5,
   "metadata": {},
   "outputs": [
    {
     "name": "stdout",
     "output_type": "stream",
     "text": [
      "[0. 0. 0.]\n",
      "\n",
      "[[0. 0. 0.]\n",
      " [0. 0. 0.]\n",
      " [0. 0. 0.]\n",
      " [0. 0. 0.]]\n",
      "\n",
      "[1. 1. 1. 1. 1. 1.]\n",
      "\n",
      "[[1. 1. 1. 1. 1.]\n",
      " [1. 1. 1. 1. 1.]\n",
      " [1. 1. 1. 1. 1.]\n",
      " [1. 1. 1. 1. 1.]\n",
      " [1. 1. 1. 1. 1.]]\n",
      "\n"
     ]
    }
   ],
   "source": [
    "xprint(np.zeros(3))\n",
    "\n",
    "# Note how you have to pass in as a tuple\n",
    "xprint(np.zeros((4,3)))\n",
    "xprint(np.ones(6))\n",
    "\n",
    "# And again here\n",
    "xprint(np.ones((5,5)))"
   ]
  },
  {
   "cell_type": "code",
   "execution_count": 6,
   "metadata": {},
   "outputs": [
    {
     "name": "stdout",
     "output_type": "stream",
     "text": [
      "[ 0.   2.5  5.   7.5 10. ]\n",
      "\n"
     ]
    }
   ],
   "source": [
    "# Linearly spaced over 5 points in range of 0 to 10\n",
    "xprint(np.linspace(0,10,5))"
   ]
  },
  {
   "cell_type": "code",
   "execution_count": 7,
   "metadata": {},
   "outputs": [
    {
     "name": "stdout",
     "output_type": "stream",
     "text": [
      "[[1. 0. 0.]\n",
      " [0. 1. 0.]\n",
      " [0. 0. 1.]]\n",
      "\n"
     ]
    }
   ],
   "source": [
    "# Identity Matrix\n",
    "xprint(np.eye(3))"
   ]
  },
  {
   "cell_type": "code",
   "execution_count": 8,
   "metadata": {},
   "outputs": [
    {
     "name": "stdout",
     "output_type": "stream",
     "text": [
      "[0.55867879 0.58985155 0.9532458  0.51167906 0.8840176 ]\n",
      "\n",
      "[[0.80277357 0.11061871 0.9287045 ]\n",
      " [0.79784953 0.5567325  0.07702903]\n",
      " [0.6340223  0.34370284 0.22846382]]\n",
      "\n",
      "[[0.53319406 0.75151427 0.72410465]\n",
      " [0.18725381 0.05896967 0.89762335]\n",
      " [0.6987869  0.46599706 0.24967081]]\n",
      "\n",
      "[22 92 24 96 65 72 49 80 65 85]\n",
      "\n"
     ]
    }
   ],
   "source": [
    "xprint(np.random.rand(5))\n",
    "xprint(np.random.rand(3,3))\n",
    "\n",
    "# Random numbers for normal distribution\n",
    "xprint(np.random.rand(3,3))\n",
    "\n",
    "# Get random ints\n",
    "xprint(np.random.randint(1,100,10))"
   ]
  },
  {
   "cell_type": "code",
   "execution_count": null,
   "metadata": {},
   "outputs": [],
   "source": []
  }
 ],
 "metadata": {
  "kernelspec": {
   "display_name": "Python 3",
   "language": "python",
   "name": "python3"
  },
  "language_info": {
   "codemirror_mode": {
    "name": "ipython",
    "version": 3
   },
   "file_extension": ".py",
   "mimetype": "text/x-python",
   "name": "python",
   "nbconvert_exporter": "python",
   "pygments_lexer": "ipython3",
   "version": "3.6.3"
  }
 },
 "nbformat": 4,
 "nbformat_minor": 2
}
