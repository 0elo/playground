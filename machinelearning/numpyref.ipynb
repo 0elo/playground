{
 "cells": [
  {
   "cell_type": "markdown",
   "metadata": {},
   "source": [
    "# NumPy Reference Page\n",
    "\n",
    "***"
   ]
  },
  {
   "cell_type": "markdown",
   "metadata": {},
   "source": [
    "### NumPy Arrays"
   ]
  },
  {
   "cell_type": "code",
   "execution_count": 1,
   "metadata": {},
   "outputs": [],
   "source": [
    "import numpy as np\n",
    "from functools import partial\n",
    "\n",
    "# Define special version of print for better array printing\n",
    "xprint = partial(print, end='\\n\\n')"
   ]
  },
  {
   "cell_type": "code",
   "execution_count": 2,
   "metadata": {},
   "outputs": [
    {
     "name": "stdout",
     "output_type": "stream",
     "text": [
      "[1, 2, 3]\n",
      "\n",
      "[1 2 3]\n",
      "\n"
     ]
    }
   ],
   "source": [
    "list = [1,2,3]\n",
    "xprint(list)\n",
    "xprint(np.array(list))"
   ]
  },
  {
   "cell_type": "code",
   "execution_count": 3,
   "metadata": {},
   "outputs": [
    {
     "name": "stdout",
     "output_type": "stream",
     "text": [
      "[[1, 2, 3], [4, 5, 6], [7, 8, 9]]\n",
      "\n",
      "[[1 2 3]\n",
      " [4 5 6]\n",
      " [7 8 9]]\n",
      "\n"
     ]
    }
   ],
   "source": [
    "matrix = [[1,2,3],[4,5,6],[7,8,9]]\n",
    "xprint(matrix)\n",
    "xprint(np.array(matrix))"
   ]
  },
  {
   "cell_type": "code",
   "execution_count": 4,
   "metadata": {},
   "outputs": [
    {
     "name": "stdout",
     "output_type": "stream",
     "text": [
      "[0 1 2 3 4 5 6 7 8 9]\n",
      "\n",
      "[0 2 4 6 8]\n",
      "\n"
     ]
    }
   ],
   "source": [
    "xprint(np.arange(10))\n",
    "xprint(np.arange(0,10,2))"
   ]
  },
  {
   "cell_type": "code",
   "execution_count": 5,
   "metadata": {},
   "outputs": [
    {
     "name": "stdout",
     "output_type": "stream",
     "text": [
      "[0. 0. 0.]\n",
      "\n",
      "[[0. 0. 0.]\n",
      " [0. 0. 0.]\n",
      " [0. 0. 0.]\n",
      " [0. 0. 0.]]\n",
      "\n",
      "[1. 1. 1. 1. 1. 1.]\n",
      "\n",
      "[[1. 1. 1. 1. 1.]\n",
      " [1. 1. 1. 1. 1.]\n",
      " [1. 1. 1. 1. 1.]\n",
      " [1. 1. 1. 1. 1.]\n",
      " [1. 1. 1. 1. 1.]]\n",
      "\n"
     ]
    }
   ],
   "source": [
    "xprint(np.zeros(3))\n",
    "\n",
    "# Note how you have to pass in as a tuple\n",
    "xprint(np.zeros((4,3)))\n",
    "xprint(np.ones(6))\n",
    "\n",
    "# And again here\n",
    "xprint(np.ones((5,5)))"
   ]
  },
  {
   "cell_type": "code",
   "execution_count": 6,
   "metadata": {},
   "outputs": [
    {
     "name": "stdout",
     "output_type": "stream",
     "text": [
      "[ 0.   2.5  5.   7.5 10. ]\n",
      "\n"
     ]
    }
   ],
   "source": [
    "# Linearly spaced over 5 points in range of 0 to 10\n",
    "xprint(np.linspace(0,10,5))"
   ]
  },
  {
   "cell_type": "code",
   "execution_count": 7,
   "metadata": {},
   "outputs": [
    {
     "name": "stdout",
     "output_type": "stream",
     "text": [
      "[[1. 0. 0.]\n",
      " [0. 1. 0.]\n",
      " [0. 0. 1.]]\n",
      "\n"
     ]
    }
   ],
   "source": [
    "# Identity Matrix\n",
    "xprint(np.eye(3))"
   ]
  },
  {
   "cell_type": "code",
   "execution_count": 8,
   "metadata": {},
   "outputs": [
    {
     "name": "stdout",
     "output_type": "stream",
     "text": [
      "[0.02011101 0.3354408  0.76575995 0.98411302 0.07786231]\n",
      "\n",
      "[[0.91594145 0.93410242 0.44237773]\n",
      " [0.66654626 0.39494832 0.75629915]\n",
      " [0.49900761 0.91670735 0.13802524]]\n",
      "\n",
      "[[0.30472321 0.03172702 0.8674701 ]\n",
      " [0.64417903 0.04879096 0.81331413]\n",
      " [0.48365525 0.93439609 0.12558409]]\n",
      "\n",
      "[87 78  6 42 43 16 25 26 92 51]\n",
      "\n"
     ]
    }
   ],
   "source": [
    "xprint(np.random.rand(5))\n",
    "xprint(np.random.rand(3,3))\n",
    "\n",
    "# Random numbers for normal distribution\n",
    "xprint(np.random.rand(3,3))\n",
    "\n",
    "# Get random ints, note that specified highest num is not inclusive\n",
    "xprint(np.random.randint(1,100,10))"
   ]
  },
  {
   "cell_type": "code",
   "execution_count": 9,
   "metadata": {},
   "outputs": [
    {
     "name": "stdout",
     "output_type": "stream",
     "text": [
      "[ 0  1  2  3  4  5  6  7  8  9 10 11 12 13 14 15 16 17 18 19 20 21 22 23\n",
      " 24]\n",
      "\n",
      "[[ 0  1  2  3  4]\n",
      " [ 5  6  7  8  9]\n",
      " [10 11 12 13 14]\n",
      " [15 16 17 18 19]\n",
      " [20 21 22 23 24]]\n",
      "\n"
     ]
    }
   ],
   "source": [
    "xprint(np.arange(0,25))\n",
    "\n",
    "# Reshaping\n",
    "xprint(np.arange(0,25).reshape(5,5))"
   ]
  },
  {
   "cell_type": "markdown",
   "metadata": {},
   "source": [
    "Retrieving data from NumPy arrays"
   ]
  },
  {
   "cell_type": "code",
   "execution_count": 10,
   "metadata": {},
   "outputs": [
    {
     "name": "stdout",
     "output_type": "stream",
     "text": [
      "[51 89 97 55 79 20  3 62 67 75]\n",
      "\n",
      "97\n",
      "\n",
      "2\n",
      "\n",
      "3\n",
      "\n",
      "6\n",
      "\n",
      "(10,)\n",
      "\n",
      "int64\n",
      "\n"
     ]
    }
   ],
   "source": [
    "test_array = np.random.randint(0,100,10)\n",
    "xprint(test_array)\n",
    "\n",
    "# Max value and index\n",
    "xprint(test_array.max())\n",
    "xprint(test_array.argmax())\n",
    "\n",
    "# Min value and index\n",
    "xprint(test_array.min())\n",
    "xprint(test_array.argmin())\n",
    "\n",
    "# Shape\n",
    "xprint(test_array.shape)\n",
    "\n",
    "# Return type of data in array\n",
    "xprint(test_array.dtype)"
   ]
  },
  {
   "cell_type": "markdown",
   "metadata": {},
   "source": [
    "### NumPy Indexing and Selection\n",
    "\n",
    "Pretty similar to the way Python lists work"
   ]
  },
  {
   "cell_type": "code",
   "execution_count": 11,
   "metadata": {},
   "outputs": [
    {
     "name": "stdout",
     "output_type": "stream",
     "text": [
      "[89 97 55]\n",
      "\n"
     ]
    }
   ],
   "source": [
    "xprint(test_array[1:4])"
   ]
  },
  {
   "cell_type": "markdown",
   "metadata": {},
   "source": [
    "Pay careful attention modifying arrays, as manipulations often modify the original copy"
   ]
  },
  {
   "cell_type": "code",
   "execution_count": 12,
   "metadata": {},
   "outputs": [
    {
     "name": "stdout",
     "output_type": "stream",
     "text": [
      "[ 0  5 10 15 20 25 30 35 40 45 50 55 60 65 70 75 80 85 90 95]\n",
      "\n"
     ]
    }
   ],
   "source": [
    "foo = np.arange(0,100,5)\n",
    "xprint(foo)"
   ]
  },
  {
   "cell_type": "code",
   "execution_count": 13,
   "metadata": {},
   "outputs": [
    {
     "name": "stdout",
     "output_type": "stream",
     "text": [
      "This is slice:\n",
      "[17 17 17 17 17 17 17 17]\n",
      "\n",
      "This is foo:\n",
      "[ 0  5 17 17 17 17 17 17 17 17 50 55 60 65 70 75 80 85 90 95]\n",
      "\n"
     ]
    }
   ],
   "source": [
    "slice = foo[2:10]\n",
    "slice[:] = 17\n",
    "print('This is slice:')\n",
    "xprint(slice)\n",
    "print('This is foo:')\n",
    "xprint(foo)"
   ]
  },
  {
   "cell_type": "markdown",
   "metadata": {},
   "source": [
    "To avoid this, you can make a copy like so"
   ]
  },
  {
   "cell_type": "code",
   "execution_count": 14,
   "metadata": {},
   "outputs": [
    {
     "name": "stdout",
     "output_type": "stream",
     "text": [
      "This is copy:\n",
      "[1 1 1 1 1 1 1 1 1 1 1 1 1 1 1 1 1 1 1 1]\n",
      "\n",
      "This is foo, which has remained unaffected:\n",
      "[ 0  5 17 17 17 17 17 17 17 17 50 55 60 65 70 75 80 85 90 95]\n",
      "\n"
     ]
    }
   ],
   "source": [
    "copy = foo.copy()\n",
    "copy[:] = 1\n",
    "print('This is copy:')\n",
    "xprint(copy)\n",
    "print('This is foo, which has remained unaffected:')\n",
    "xprint(foo)"
   ]
  },
  {
   "cell_type": "code",
   "execution_count": 15,
   "metadata": {},
   "outputs": [
    {
     "name": "stdout",
     "output_type": "stream",
     "text": [
      "[[ 5 10 15]\n",
      " [20 25 30]\n",
      " [35 40 45]]\n",
      "\n"
     ]
    }
   ],
   "source": [
    "twoD = np.array([[5,10,15],[20,25,30],[35,40,45]])\n",
    "xprint(twoD)"
   ]
  },
  {
   "cell_type": "code",
   "execution_count": 16,
   "metadata": {},
   "outputs": [
    {
     "name": "stdout",
     "output_type": "stream",
     "text": [
      "[35 40 45]\n",
      "\n",
      "45\n",
      "\n",
      "[40 45]\n",
      "\n"
     ]
    }
   ],
   "source": [
    "xprint(twoD[2])\n",
    "xprint(twoD[2][2])\n",
    "xprint(twoD[2][1:])"
   ]
  },
  {
   "cell_type": "code",
   "execution_count": 17,
   "metadata": {},
   "outputs": [
    {
     "name": "stdout",
     "output_type": "stream",
     "text": [
      "[ 1  2  3  4  5  6  7  8  9 10]\n",
      "\n",
      "[False False False False False  True  True  True  True  True]\n",
      "\n",
      "[ 6  7  8  9 10]\n",
      "\n",
      "[ 6  7  8  9 10]\n",
      "\n"
     ]
    }
   ],
   "source": [
    "somearray = np.arange(1,11)\n",
    "xprint(somearray)\n",
    "boolArr = somearray > 5\n",
    "xprint(boolArr)\n",
    "xprint(somearray[boolArr])\n",
    "xprint(somearray[somearray > 5])"
   ]
  },
  {
   "cell_type": "markdown",
   "metadata": {},
   "source": [
    "### NumPy Operations"
   ]
  },
  {
   "cell_type": "code",
   "execution_count": 18,
   "metadata": {},
   "outputs": [
    {
     "name": "stdout",
     "output_type": "stream",
     "text": [
      "[ 1  2  3  4  5  6  7  8  9 10]\n",
      "\n"
     ]
    }
   ],
   "source": [
    "bar = np.arange(1,11)\n",
    "xprint(bar)"
   ]
  },
  {
   "cell_type": "code",
   "execution_count": 19,
   "metadata": {},
   "outputs": [
    {
     "name": "stdout",
     "output_type": "stream",
     "text": [
      "[ 100  200  300  400  500  600  700  800  900 1000]\n",
      "\n",
      "[ 2  4  6  8 10 12 14 16 18 20]\n",
      "\n",
      "[  1   4   9  16  25  36  49  64  81 100]\n",
      "\n",
      "[0 0 0 0 0 0 0 0 0 0]\n",
      "\n",
      "[1. 1. 1. 1. 1. 1. 1. 1. 1. 1.]\n",
      "\n",
      "[0 0 0 0 0 0 0 0 0 0]\n",
      "\n",
      "[          1           4          27         256        3125       46656\n",
      "      823543    16777216   387420489 10000000000]\n",
      "\n",
      "[1.         1.41421356 1.73205081 2.         2.23606798 2.44948974\n",
      " 2.64575131 2.82842712 3.         3.16227766]\n",
      "\n",
      "[ 0.84147098  0.90929743  0.14112001 -0.7568025  -0.95892427 -0.2794155\n",
      "  0.6569866   0.98935825  0.41211849 -0.54402111]\n",
      "\n",
      "[ 0.54030231 -0.41614684 -0.9899925  -0.65364362  0.28366219  0.96017029\n",
      "  0.75390225 -0.14550003 -0.91113026 -0.83907153]\n",
      "\n",
      "[ 1.55740772 -2.18503986 -0.14254654  1.15782128 -3.38051501 -0.29100619\n",
      "  0.87144798 -6.79971146 -0.45231566  0.64836083]\n",
      "\n",
      "[0.         0.69314718 1.09861229 1.38629436 1.60943791 1.79175947\n",
      " 1.94591015 2.07944154 2.19722458 2.30258509]\n",
      "\n",
      "Original: \n",
      "[ 1  2  3  4  5  6  7  8  9 10]\n",
      "\n"
     ]
    }
   ],
   "source": [
    "xprint(bar * 100)\n",
    "xprint(bar + bar)\n",
    "xprint(bar * bar)\n",
    "xprint(bar - bar)\n",
    "xprint(bar / bar)\n",
    "xprint(bar % bar)\n",
    "xprint(bar ** bar)\n",
    "xprint(np.sqrt(bar))\n",
    "xprint(np.sin(bar))\n",
    "xprint(np.cos(bar))\n",
    "xprint(np.tan(bar))\n",
    "xprint(np.log(bar))\n",
    "\n",
    "# Doesn't affect original\n",
    "print('Original: ')\n",
    "xprint(bar)"
   ]
  },
  {
   "cell_type": "markdown",
   "metadata": {},
   "source": [
    "Note that dividing zero by zero in NumPy gives you nan, and dividing any number != zero gives you inf"
   ]
  },
  {
   "cell_type": "code",
   "execution_count": 20,
   "metadata": {},
   "outputs": [
    {
     "name": "stdout",
     "output_type": "stream",
     "text": [
      "[nan nan nan nan nan]\n",
      "\n"
     ]
    },
    {
     "name": "stderr",
     "output_type": "stream",
     "text": [
      "/home/kevin/env/jupyterML/lib/python3.6/site-packages/ipykernel_launcher.py:1: RuntimeWarning: invalid value encountered in true_divide\n",
      "  \"\"\"Entry point for launching an IPython kernel.\n"
     ]
    }
   ],
   "source": [
    "xprint(np.zeros(5)/np.zeros(5))"
   ]
  },
  {
   "cell_type": "code",
   "execution_count": 21,
   "metadata": {},
   "outputs": [
    {
     "name": "stdout",
     "output_type": "stream",
     "text": [
      "[inf inf inf inf inf]\n",
      "\n"
     ]
    },
    {
     "name": "stderr",
     "output_type": "stream",
     "text": [
      "/home/kevin/env/jupyterML/lib/python3.6/site-packages/ipykernel_launcher.py:1: RuntimeWarning: divide by zero encountered in true_divide\n",
      "  \"\"\"Entry point for launching an IPython kernel.\n"
     ]
    }
   ],
   "source": [
    "xprint(np.ones(5)/np.zeros(5))"
   ]
  },
  {
   "cell_type": "code",
   "execution_count": null,
   "metadata": {},
   "outputs": [],
   "source": []
  }
 ],
 "metadata": {
  "kernelspec": {
   "display_name": "Python 3",
   "language": "python",
   "name": "python3"
  },
  "language_info": {
   "codemirror_mode": {
    "name": "ipython",
    "version": 3
   },
   "file_extension": ".py",
   "mimetype": "text/x-python",
   "name": "python",
   "nbconvert_exporter": "python",
   "pygments_lexer": "ipython3",
   "version": "3.6.3"
  }
 },
 "nbformat": 4,
 "nbformat_minor": 2
}
