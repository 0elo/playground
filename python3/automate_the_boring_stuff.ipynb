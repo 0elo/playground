{
 "cells": [
  {
   "cell_type": "markdown",
   "metadata": {},
   "source": [
    "# Automate the Boring Stuff with Python\n"
   ]
  },
  {
   "cell_type": "markdown",
   "metadata": {},
   "source": [
    "### Chapter 3\n",
    "#### Globals"
   ]
  },
  {
   "cell_type": "code",
   "execution_count": 2,
   "metadata": {},
   "outputs": [
    {
     "name": "stdout",
     "output_type": "stream",
     "text": [
      "foobar\n"
     ]
    }
   ],
   "source": [
    "def foo():\n",
    "    global bar\n",
    "    bar = 'foobar'\n",
    "\n",
    "bar = 'global_foobar'\n",
    "foo()\n",
    "print(bar)"
   ]
  },
  {
   "cell_type": "markdown",
   "metadata": {},
   "source": [
    "#### Exception Handling"
   ]
  },
  {
   "cell_type": "code",
   "execution_count": 3,
   "metadata": {},
   "outputs": [
    {
     "name": "stdout",
     "output_type": "stream",
     "text": [
      "21.0\n",
      "3.5\n"
     ]
    },
    {
     "ename": "ZeroDivisionError",
     "evalue": "division by zero",
     "output_type": "error",
     "traceback": [
      "\u001b[1;31m---------------------------------------------------------------------------\u001b[0m",
      "\u001b[1;31mZeroDivisionError\u001b[0m                         Traceback (most recent call last)",
      "\u001b[1;32m<ipython-input-3-47491fb668b5>\u001b[0m in \u001b[0;36m<module>\u001b[1;34m\u001b[0m\n\u001b[0;32m      4\u001b[0m \u001b[0mprint\u001b[0m\u001b[1;33m(\u001b[0m\u001b[0mfoo\u001b[0m\u001b[1;33m(\u001b[0m\u001b[1;36m2\u001b[0m\u001b[1;33m)\u001b[0m\u001b[1;33m)\u001b[0m\u001b[1;33m\u001b[0m\u001b[1;33m\u001b[0m\u001b[0m\n\u001b[0;32m      5\u001b[0m \u001b[0mprint\u001b[0m\u001b[1;33m(\u001b[0m\u001b[0mfoo\u001b[0m\u001b[1;33m(\u001b[0m\u001b[1;36m12\u001b[0m\u001b[1;33m)\u001b[0m\u001b[1;33m)\u001b[0m\u001b[1;33m\u001b[0m\u001b[1;33m\u001b[0m\u001b[0m\n\u001b[1;32m----> 6\u001b[1;33m \u001b[0mprint\u001b[0m\u001b[1;33m(\u001b[0m\u001b[0mfoo\u001b[0m\u001b[1;33m(\u001b[0m\u001b[1;36m0\u001b[0m\u001b[1;33m)\u001b[0m\u001b[1;33m)\u001b[0m\u001b[1;33m\u001b[0m\u001b[1;33m\u001b[0m\u001b[0m\n\u001b[0m\u001b[0;32m      7\u001b[0m \u001b[0mprint\u001b[0m\u001b[1;33m(\u001b[0m\u001b[0mfoo\u001b[0m\u001b[1;33m(\u001b[0m\u001b[1;36m1\u001b[0m\u001b[1;33m)\u001b[0m\u001b[1;33m)\u001b[0m\u001b[1;33m\u001b[0m\u001b[1;33m\u001b[0m\u001b[0m\n",
      "\u001b[1;32m<ipython-input-3-47491fb668b5>\u001b[0m in \u001b[0;36mfoo\u001b[1;34m(divideBy)\u001b[0m\n\u001b[0;32m      1\u001b[0m \u001b[1;32mdef\u001b[0m \u001b[0mfoo\u001b[0m\u001b[1;33m(\u001b[0m\u001b[0mdivideBy\u001b[0m\u001b[1;33m:\u001b[0m \u001b[0mint\u001b[0m\u001b[1;33m)\u001b[0m \u001b[1;33m->\u001b[0m \u001b[0mint\u001b[0m\u001b[1;33m:\u001b[0m\u001b[1;33m\u001b[0m\u001b[1;33m\u001b[0m\u001b[0m\n\u001b[1;32m----> 2\u001b[1;33m     \u001b[1;32mreturn\u001b[0m \u001b[1;36m42\u001b[0m\u001b[1;33m/\u001b[0m \u001b[0mdivideBy\u001b[0m\u001b[1;33m\u001b[0m\u001b[1;33m\u001b[0m\u001b[0m\n\u001b[0m\u001b[0;32m      3\u001b[0m \u001b[1;33m\u001b[0m\u001b[0m\n\u001b[0;32m      4\u001b[0m \u001b[0mprint\u001b[0m\u001b[1;33m(\u001b[0m\u001b[0mfoo\u001b[0m\u001b[1;33m(\u001b[0m\u001b[1;36m2\u001b[0m\u001b[1;33m)\u001b[0m\u001b[1;33m)\u001b[0m\u001b[1;33m\u001b[0m\u001b[1;33m\u001b[0m\u001b[0m\n\u001b[0;32m      5\u001b[0m \u001b[0mprint\u001b[0m\u001b[1;33m(\u001b[0m\u001b[0mfoo\u001b[0m\u001b[1;33m(\u001b[0m\u001b[1;36m12\u001b[0m\u001b[1;33m)\u001b[0m\u001b[1;33m)\u001b[0m\u001b[1;33m\u001b[0m\u001b[1;33m\u001b[0m\u001b[0m\n",
      "\u001b[1;31mZeroDivisionError\u001b[0m: division by zero"
     ]
    }
   ],
   "source": [
    "def foo(divideBy: int) -> int:\n",
    "    return 42/ divideBy\n",
    "\n",
    "print(foo(2))\n",
    "print(foo(12))\n",
    "print(foo(0))\n",
    "print(foo(1))"
   ]
  },
  {
   "cell_type": "code",
   "execution_count": 7,
   "metadata": {},
   "outputs": [
    {
     "name": "stdout",
     "output_type": "stream",
     "text": [
      "21.0\n",
      "3.5\n",
      "Error: Cannot divide by zero.\n",
      "None\n",
      "42.0\n"
     ]
    }
   ],
   "source": [
    "def foo(divideBy: int) -> int:\n",
    "    try:\n",
    "        return 42 / divideBy\n",
    "    except ZeroDivisionError:\n",
    "        print('Error: Cannot divide by zero.')\n",
    "        \n",
    "print(foo(2))\n",
    "print(foo(12))\n",
    "print(foo(0))\n",
    "print(foo(1))"
   ]
  },
  {
   "cell_type": "markdown",
   "metadata": {},
   "source": [
    "#### Guess the Number"
   ]
  },
  {
   "cell_type": "code",
   "execution_count": 10,
   "metadata": {},
   "outputs": [
    {
     "name": "stdout",
     "output_type": "stream",
     "text": [
      "I am thinking of a number between 1 and 20.\n",
      "Take a guess: \n",
      "10\n",
      "Your guess is too low.\n",
      "Take a guess: \n",
      "15\n",
      "Your guess is too high.\n",
      "Take a guess: \n",
      "13\n",
      "You guessed my number in 3 guesses!\n"
     ]
    }
   ],
   "source": [
    "import random\n",
    "\n",
    "secretNumber = random.randint(1, 20)\n",
    "print('I am thinking of a number between 1 and 20.')\n",
    "\n",
    "# Ask the player to guess 6 times.\n",
    "for guessesTaken in range(1,7):\n",
    "    print('Take a guess: ')\n",
    "    guess = int(input())\n",
    "    \n",
    "    if guess > secretNumber:\n",
    "        print('Your guess is too high.')\n",
    "    elif guess < secretNumber:\n",
    "        print('Your guess is too low.')\n",
    "    else:\n",
    "        break\n",
    "        \n",
    "if guess == secretNumber:\n",
    "    print('You guessed my number in ' + str(guessesTaken) + ' guesses!')\n",
    "else:\n",
    "    print('Better luck next time. The number I was thinking of was ' + str(secretNumber))\n",
    "            "
   ]
  },
  {
   "cell_type": "markdown",
   "metadata": {},
   "source": [
    "#### Colltaz Sequence"
   ]
  },
  {
   "cell_type": "code",
   "execution_count": 12,
   "metadata": {},
   "outputs": [
    {
     "name": "stdout",
     "output_type": "stream",
     "text": [
      "Collatz Sequence - Enter a number: \n",
      "1273\n",
      "3820\n",
      "1910\n",
      "955\n",
      "2866\n",
      "1433\n",
      "4300\n",
      "2150\n",
      "1075\n",
      "3226\n",
      "1613\n",
      "4840\n",
      "2420\n",
      "1210\n",
      "605\n",
      "1816\n",
      "908\n",
      "454\n",
      "227\n",
      "682\n",
      "341\n",
      "1024\n",
      "512\n",
      "256\n",
      "128\n",
      "64\n",
      "32\n",
      "16\n",
      "8\n",
      "4\n",
      "2\n",
      "1\n"
     ]
    }
   ],
   "source": [
    "def collatz(num: int) -> int:    \n",
    "    num = (3 * num + 1) if (num % 2) else (num // 2)\n",
    "    print(str(num))\n",
    "    if (num > 1): collatz(num)\n",
    "\n",
    "print('Collatz Sequence - Enter a number: ')\n",
    "user_num = int(input())\n",
    "collatz(user_num)"
   ]
  },
  {
   "cell_type": "code",
   "execution_count": null,
   "metadata": {},
   "outputs": [],
   "source": []
  }
 ],
 "metadata": {
  "kernelspec": {
   "display_name": "Python 3",
   "language": "python",
   "name": "python3"
  },
  "language_info": {
   "codemirror_mode": {
    "name": "ipython",
    "version": 3
   },
   "file_extension": ".py",
   "mimetype": "text/x-python",
   "name": "python",
   "nbconvert_exporter": "python",
   "pygments_lexer": "ipython3",
   "version": "3.7.3"
  }
 },
 "nbformat": 4,
 "nbformat_minor": 2
}
