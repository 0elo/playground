{
 "cells": [
  {
   "cell_type": "markdown",
   "metadata": {},
   "source": [
    "## namedtuple\n",
    "\n",
    "Factory function for creating tuple subclasses with named fields."
   ]
  },
  {
   "cell_type": "code",
   "execution_count": 1,
   "metadata": {},
   "outputs": [],
   "source": [
    "import collections"
   ]
  },
  {
   "cell_type": "markdown",
   "metadata": {},
   "source": [
    "# Day 01 - Collections\n",
    "\n",
    "The [collections module](https://docs.python.org/3.8/library/collections.html) implements specialized container data types providing alternatives to Python's general purpose built-in containers, dict, list, set, and tuple."
   ]
  },
  {
   "cell_type": "code",
   "execution_count": 2,
   "metadata": {},
   "outputs": [],
   "source": [
    "# namedtuples are regular classes, so they can be extended\n",
    "class Point(collections.namedtuple('Point', ['x', 'y'])):\n",
    "    def __str__(self):\n",
    "        return f'{self.x}, {self.y}'"
   ]
  },
  {
   "cell_type": "code",
   "execution_count": 3,
   "metadata": {},
   "outputs": [
    {
     "name": "stdout",
     "output_type": "stream",
     "text": [
      "10, 21\n",
      "12, 15\n"
     ]
    }
   ],
   "source": [
    "p = Point(10, 21)\n",
    "print(p)\n",
    "p = Point(x=12, y=15)\n",
    "print(p)"
   ]
  },
  {
   "cell_type": "code",
   "execution_count": 4,
   "metadata": {},
   "outputs": [
    {
     "name": "stdout",
     "output_type": "stream",
     "text": [
      "12, 15\n"
     ]
    }
   ],
   "source": [
    "# Regular tuple unpacking\n",
    "x, y = p\n",
    "print(p)"
   ]
  },
  {
   "cell_type": "code",
   "execution_count": 5,
   "metadata": {},
   "outputs": [
    {
     "name": "stdout",
     "output_type": "stream",
     "text": [
      "-3, 4\n"
     ]
    }
   ],
   "source": [
    "# Use _make to create a new instance from an existing iterable\n",
    "arr = [-3, 4]\n",
    "p = Point._make(arr)\n",
    "print(p)"
   ]
  },
  {
   "cell_type": "code",
   "execution_count": 6,
   "metadata": {},
   "outputs": [
    {
     "name": "stdout",
     "output_type": "stream",
     "text": [
      "{'x': -3, 'y': 4}\n"
     ]
    }
   ],
   "source": [
    "# Conversion to dict\n",
    "print(p._asdict())"
   ]
  },
  {
   "cell_type": "code",
   "execution_count": 7,
   "metadata": {},
   "outputs": [
    {
     "name": "stdout",
     "output_type": "stream",
     "text": [
      "121, 2123\n",
      "-3, 4\n"
     ]
    }
   ],
   "source": [
    "# Return a new instance replacing fields with new values\n",
    "print(p._replace(x=121, y=2123))\n",
    "print(p)"
   ]
  },
  {
   "cell_type": "code",
   "execution_count": 8,
   "metadata": {},
   "outputs": [
    {
     "name": "stdout",
     "output_type": "stream",
     "text": [
      "('x', 'y')\n",
      "{}\n",
      "21, 20\n",
      "{'y': 1, 'z': 3}\n"
     ]
    }
   ],
   "source": [
    "# Get the fields\n",
    "print(p._fields)\n",
    "\n",
    "# Show field defaults (if any)\n",
    "print(p._field_defaults)\n",
    "\n",
    "# If number of default values less than field, default values are attributed from the end of the field array\n",
    "DefaultPoint = collections.namedtuple('DefaultPoint', ['x', 'y', 'z'], defaults=[1, 3])\n",
    "dp = DefaultPoint(21, 20)\n",
    "print(f'{dp.x}, {dp.y}')\n",
    "print(dp._field_defaults)"
   ]
  },
  {
   "cell_type": "code",
   "execution_count": 9,
   "metadata": {},
   "outputs": [
    {
     "name": "stdout",
     "output_type": "stream",
     "text": [
      "{'x': 435, 'y': 98, 'z': 3}\n"
     ]
    }
   ],
   "source": [
    "# Convert dict to namedtuple\n",
    "p_dict = {'x': 435, 'y': 98}\n",
    "dp = DefaultPoint(**p_dict)\n",
    "print(dp._asdict())"
   ]
  },
  {
   "cell_type": "code",
   "execution_count": null,
   "metadata": {},
   "outputs": [],
   "source": []
  }
 ],
 "metadata": {
  "kernelspec": {
   "display_name": "Python 3",
   "language": "python",
   "name": "python3"
  },
  "language_info": {
   "codemirror_mode": {
    "name": "ipython",
    "version": 3
   },
   "file_extension": ".py",
   "mimetype": "text/x-python",
   "name": "python",
   "nbconvert_exporter": "python",
   "pygments_lexer": "ipython3",
   "version": "3.8.0"
  }
 },
 "nbformat": 4,
 "nbformat_minor": 4
}
